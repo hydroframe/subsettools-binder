{
 "cells": [
  {
   "cell_type": "code",
   "execution_count": 1,
   "id": "71b12d4d-f7b8-4469-b34f-21eb110595f0",
   "metadata": {},
   "outputs": [],
   "source": [
    "import hf_hydrodata"
   ]
  },
  {
   "cell_type": "code",
   "execution_count": 2,
   "id": "b4d5abcd-552b-442c-912c-b31e8bc35704",
   "metadata": {},
   "outputs": [],
   "source": [
    "entry = {'id': '109', 'dataset': 'conus1_baseline_mod', 'file_type': 'vegm', 'variable': 'clm_run', 'dataset_var': 'clm_run', 'entry_start_date': '', 'entry_end_date': '', 'temporal_resolution': 'static', 'units': '-', 'aggregation': '-', 'grid': 'conus1', 'file_grouping': '', 'security_level': '1', 'path': '/hydrodata/PFCLM/CONUS1_baseline/inputs/drv_vegm.fixed.dat', 'documentation_notes': '', 'site_type': '', 'period': 'static', 'dataset_type': 'parflow', 'datasource': 'hydroframe', 'structure_type': 'gridded', 'unit_type': 'unitless', 'variable_type': 'run_file', 'description': 'Modern CONUS1 simulations WY 2003-2006', 'paper_dois': '10.5194/gmd-14-7223-2021', 'dataset_dois': '', 'dataset_start_date': '10/1/02', 'dataset_end_date': '9/30/06', 'time_zone': 'UTC-00:00', 'documentation_link': '', 'has_ensemble': ''}"
   ]
  },
  {
   "cell_type": "code",
   "execution_count": 3,
   "id": "d7834fe4-b748-4c69-9686-d88ad33e363f",
   "metadata": {},
   "outputs": [],
   "source": [
    "ij_bounds = (375, 239, 487, 329)"
   ]
  },
  {
   "cell_type": "code",
   "execution_count": 4,
   "id": "d1ec542e-e68c-45f4-bc81-296933c9d2f6",
   "metadata": {},
   "outputs": [
    {
     "name": "stderr",
     "output_type": "stream",
     "text": [
      "ERROR:root:Error loading data catalog model from API 'https://hydro-dev.princeton.edu/api/config/data_catalog_model'\n",
      "socket.gaierror: [Errno -2] Name or service not known\n",
      "\n",
      "The above exception was the direct cause of the following exception:\n",
      "\n",
      "urllib3.exceptions.NameResolutionError: <urllib3.connection.HTTPSConnection object at 0x14bd2f4956d0>: Failed to resolve 'hydro-dev.princeton.edu' ([Errno -2] Name or service not known)\n",
      "\n",
      "The above exception was the direct cause of the following exception:\n",
      "\n",
      "urllib3.exceptions.MaxRetryError: HTTPSConnectionPool(host='hydro-dev.princeton.edu', port=443): Max retries exceeded with url: /api/config/data_catalog_model (Caused by NameResolutionError(\"<urllib3.connection.HTTPSConnection object at 0x14bd2f4956d0>: Failed to resolve 'hydro-dev.princeton.edu' ([Errno -2] Name or service not known)\"))\n",
      "\n",
      "During handling of the above exception, another exception occurred:\n",
      "\n",
      "requests.exceptions.ConnectionError: HTTPSConnectionPool(host='hydro-dev.princeton.edu', port=443): Max retries exceeded with url: /api/config/data_catalog_model (Caused by NameResolutionError(\"<urllib3.connection.HTTPSConnection object at 0x14bd2f4956d0>: Failed to resolve 'hydro-dev.princeton.edu' ([Errno -2] Name or service not known)\"))\n"
     ]
    },
    {
     "data": {
      "text/plain": [
       "array([[[  34.438993,   34.440628,   34.442263, ...,   34.611112,\n",
       "           34.612633,   34.614153],\n",
       "        [  34.447878,   34.449514,   34.451149, ...,   34.62002 ,\n",
       "           34.621541,   34.623062],\n",
       "        [  34.456764,   34.4584  ,   34.460035, ...,   34.628928,\n",
       "           34.630449,   34.63197 ],\n",
       "        ...,\n",
       "        [  35.212252,   35.213906,   35.215559, ...,   35.386304,\n",
       "           35.387843,   35.38938 ],\n",
       "        [  35.221142,   35.222796,   35.224449, ...,   35.395217,\n",
       "           35.396755,   35.398293],\n",
       "        [  35.230032,   35.231687,   35.23334 , ...,   35.404129,\n",
       "           35.405668,   35.407206]],\n",
       "\n",
       "       [[-112.548028, -112.537303, -112.526578, ..., -111.376299,\n",
       "         -111.365524, -111.354749],\n",
       "        [-112.550004, -112.539277, -112.52855 , ..., -111.378139,\n",
       "         -111.367364, -111.356588],\n",
       "        [-112.551979, -112.541251, -112.530523, ..., -111.379981,\n",
       "         -111.369204, -111.358427],\n",
       "        ...,\n",
       "        [-112.721625, -112.710792, -112.699959, ..., -111.538102,\n",
       "         -111.527219, -111.516335],\n",
       "        [-112.723641, -112.712807, -112.701973, ..., -111.539982,\n",
       "         -111.529097, -111.518212],\n",
       "        [-112.725658, -112.714823, -112.703987, ..., -111.541862,\n",
       "         -111.530976, -111.52009 ]],\n",
       "\n",
       "       [[   0.16    ,    0.16    ,    0.16    , ...,    0.16    ,\n",
       "            0.16    ,    0.16    ],\n",
       "        [   0.16    ,    0.16    ,    0.16    , ...,    0.16    ,\n",
       "            0.16    ,    0.16    ],\n",
       "        [   0.16    ,    0.16    ,    0.16    , ...,    0.16    ,\n",
       "            0.16    ,    0.16    ],\n",
       "        ...,\n",
       "        [   0.16    ,    0.16    ,    0.16    , ...,    0.16    ,\n",
       "            0.16    ,    0.16    ],\n",
       "        [   0.16    ,    0.16    ,    0.16    , ...,    0.16    ,\n",
       "            0.16    ,    0.16    ],\n",
       "        [   0.16    ,    0.16    ,    0.16    , ...,    0.16    ,\n",
       "            0.16    ,    0.16    ]],\n",
       "\n",
       "       ...,\n",
       "\n",
       "       [[   0.      ,    0.      ,    0.      , ...,    0.      ,\n",
       "            0.      ,    0.      ],\n",
       "        [   0.      ,    0.      ,    0.      , ...,    0.      ,\n",
       "            0.      ,    0.      ],\n",
       "        [   0.      ,    0.      ,    0.      , ...,    0.      ,\n",
       "            0.      ,    0.      ],\n",
       "        ...,\n",
       "        [   0.      ,    0.      ,    0.      , ...,    0.      ,\n",
       "            0.      ,    0.      ],\n",
       "        [   0.      ,    0.      ,    0.      , ...,    0.      ,\n",
       "            0.      ,    0.      ],\n",
       "        [   0.      ,    0.      ,    0.      , ...,    0.      ,\n",
       "            0.      ,    0.      ]],\n",
       "\n",
       "       [[   0.      ,    0.      ,    0.      , ...,    0.      ,\n",
       "            0.      ,    0.      ],\n",
       "        [   0.      ,    0.      ,    0.      , ...,    0.      ,\n",
       "            0.      ,    0.      ],\n",
       "        [   0.      ,    0.      ,    0.      , ...,    0.      ,\n",
       "            0.      ,    0.      ],\n",
       "        ...,\n",
       "        [   0.      ,    0.      ,    0.      , ...,    0.      ,\n",
       "            0.      ,    0.      ],\n",
       "        [   0.      ,    0.      ,    0.      , ...,    0.      ,\n",
       "            0.      ,    0.      ],\n",
       "        [   0.      ,    0.      ,    0.      , ...,    0.      ,\n",
       "            0.      ,    0.      ]],\n",
       "\n",
       "       [[   0.      ,    0.      ,    0.      , ...,    0.      ,\n",
       "            0.      ,    0.      ],\n",
       "        [   0.      ,    0.      ,    0.      , ...,    0.      ,\n",
       "            0.      ,    0.      ],\n",
       "        [   0.      ,    0.      ,    0.      , ...,    0.      ,\n",
       "            0.      ,    0.      ],\n",
       "        ...,\n",
       "        [   0.      ,    0.      ,    0.      , ...,    0.      ,\n",
       "            0.      ,    0.      ],\n",
       "        [   0.      ,    0.      ,    0.      , ...,    0.      ,\n",
       "            0.      ,    0.      ],\n",
       "        [   0.      ,    0.      ,    0.      , ...,    0.      ,\n",
       "            0.      ,    0.      ]]])"
      ]
     },
     "execution_count": 4,
     "metadata": {},
     "output_type": "execute_result"
    }
   ],
   "source": [
    "hf_hydrodata.gridded.get_ndarray(entry, grid_bounds=ij_bounds)"
   ]
  },
  {
   "cell_type": "code",
   "execution_count": null,
   "id": "eb12f1ca-bcf8-4a6c-93e4-6932bdcc9fee",
   "metadata": {},
   "outputs": [],
   "source": []
  },
  {
   "cell_type": "code",
   "execution_count": null,
   "id": "b7385cb3-dc7b-4284-afb1-2d6dd54626ad",
   "metadata": {},
   "outputs": [],
   "source": []
  }
 ],
 "metadata": {
  "kernelspec": {
   "display_name": "Python 3 (ipykernel)",
   "language": "python",
   "name": "python3"
  },
  "language_info": {
   "codemirror_mode": {
    "name": "ipython",
    "version": 3
   },
   "file_extension": ".py",
   "mimetype": "text/x-python",
   "name": "python",
   "nbconvert_exporter": "python",
   "pygments_lexer": "ipython3",
   "version": "3.9.17"
  }
 },
 "nbformat": 4,
 "nbformat_minor": 5
}
